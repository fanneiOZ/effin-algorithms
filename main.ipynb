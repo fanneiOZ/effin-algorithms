{
 "cells": [
  {
   "cell_type": "code",
   "execution_count": null,
   "metadata": {
    "collapsed": true
   },
   "outputs": [],
   "source": [
    "def insertion_sort(input_list: list):\n",
    "    instance = input_list.copy()\n",
    "    current = 0\n",
    "\n",
    "    while current < len(instance) - 1:\n",
    "        selected = current\n",
    "        checking = current + 1\n",
    "        key = instance[selected]\n",
    "\n",
    "        while checking < len(instance):\n",
    "            if key > instance[checking]:\n",
    "                key = instance[checking]\n",
    "                selected = checking\n",
    "            checking += 1\n",
    "\n",
    "        i = selected\n",
    "\n",
    "        while i > current:\n",
    "            instance[i] = instance[i - 1]\n",
    "            i -= 1\n",
    "\n",
    "        instance[current] = key\n",
    "        current += 1\n",
    "\n",
    "    return instance\n",
    "\n",
    "\n",
    "input_size = 100\n",
    "best_case = list(range(1, input_size + 1))\n",
    "worst_case = list(range(input_size, 0, -1))\n",
    "\n",
    "\n",
    "\n",
    "print(insertion_sort(worst_case))\n",
    "print(insertion_sort(best_case))\n",
    "\n"
   ]
  }
 ],
 "metadata": {
  "kernelspec": {
   "display_name": "Python 3",
   "language": "python",
   "name": "python3"
  },
  "language_info": {
   "codemirror_mode": {
    "name": "ipython",
    "version": 2
   },
   "file_extension": ".py",
   "mimetype": "text/x-python",
   "name": "python",
   "nbconvert_exporter": "python",
   "pygments_lexer": "ipython2",
   "version": "2.7.6"
  }
 },
 "nbformat": 4,
 "nbformat_minor": 0
}